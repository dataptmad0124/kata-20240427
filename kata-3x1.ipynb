{
 "cells": [
  {
   "cell_type": "markdown",
   "id": "a447b8b5-f16b-451f-b45c-47746f721e1e",
   "metadata": {},
   "source": [
    "# Kata:"
   ]
  },
  {
   "cell_type": "markdown",
   "id": "c7379b61-1f04-4fa2-8865-bf3e2c83b39e",
   "metadata": {},
   "source": [
    "https://www.codewars.com/kata/5811597e9d278beb04000038/train/sql"
   ]
  },
  {
   "cell_type": "code",
   "execution_count": null,
   "id": "b891e712",
   "metadata": {},
   "outputs": [],
   "source": [
    "SELECT\n",
    "    CAST(created_at AS DATE) AS day,\n",
    "    description,\n",
    "    COUNT(*) AS count\n",
    "FROM\n",
    "    events\n",
    "WHERE\n",
    "    name = 'trained'\n",
    "GROUP BY\n",
    "    CAST(created_at AS DATE),\n",
    "    description\n",
    "ORDER BY "
   ]
  },
  {
   "cell_type": "markdown",
   "id": "6276f1a4-9c0b-41cb-992a-51fc4e35c197",
   "metadata": {},
   "source": [
    "https://www.codewars.com/kata/5e5f09dc0a17be0023920f6f/train/sql"
   ]
  },
  {
   "cell_type": "code",
   "execution_count": null,
   "id": "b79577f4",
   "metadata": {},
   "outputs": [],
   "source": [
    "SELECT capital\n",
    "FROM countries\n",
    "WHERE country LIKE 'E%' AND continent IN ('Afrika', 'Africa')\n",
    "ORDER BY capital\n",
    "LIMIT 3;"
   ]
  },
  {
   "cell_type": "markdown",
   "id": "6db7d72d-5621-480e-ae3e-80564523b843",
   "metadata": {},
   "source": [
    "https://www.codewars.com/kata/582cba7d3be8ce3a8300007c/train/sql"
   ]
  },
  {
   "cell_type": "code",
   "execution_count": null,
   "id": "4a49f23c",
   "metadata": {},
   "outputs": [],
   "source": [
    "SELECT \n",
    "  CAST(s.transaction_date AS DATE) AS day,\n",
    "  d.name AS department,\n",
    "  COUNT(s.id) as sale_count\n",
    "FROM \n",
    "  department d\n",
    "JOIN \n",
    "  sale s on d.id = s.department_id\n",
    "GROUP BY \n",
    "    CAST(s.transaction_date AS DATE), d.name\n",
    "ORDER BY \n",
    "    day ASC, department ASC;"
   ]
  }
 ],
 "metadata": {
  "kernelspec": {
   "display_name": "Python 3 (ipykernel)",
   "language": "python",
   "name": "python3"
  },
  "language_info": {
   "codemirror_mode": {
    "name": "ipython",
    "version": 3
   },
   "file_extension": ".py",
   "mimetype": "text/x-python",
   "name": "python",
   "nbconvert_exporter": "python",
   "pygments_lexer": "ipython3",
   "version": "3.11.5"
  }
 },
 "nbformat": 4,
 "nbformat_minor": 5
}
