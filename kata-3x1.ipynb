{
 "cells": [
  {
   "cell_type": "markdown",
   "id": "a447b8b5-f16b-451f-b45c-47746f721e1e",
   "metadata": {},
   "source": [
    "# Kata:"
   ]
  },
  {
   "cell_type": "markdown",
   "id": "c7379b61-1f04-4fa2-8865-bf3e2c83b39e",
   "metadata": {},
   "source": [
    "https://www.codewars.com/kata/5811597e9d278beb04000038/train/sql"
   ]
  },
  {
   "cell_type": "markdown",
   "id": "6276f1a4-9c0b-41cb-992a-51fc4e35c197",
   "metadata": {},
   "source": [
    "https://www.codewars.com/kata/5e5f09dc0a17be0023920f6f/train/sql"
   ]
  },
  {
   "cell_type": "markdown",
   "id": "6db7d72d-5621-480e-ae3e-80564523b843",
   "metadata": {},
   "source": [
    "https://www.codewars.com/kata/582cba7d3be8ce3a8300007c/train/sql"
   ]
  },
  {
   "cell_type": "markdown",
   "id": "5e2a4659-1d95-44fb-b92c-4646b4da4e6f",
   "metadata": {},
   "source": [
    "## Your name or team members:"
   ]
  },
  {
   "cell_type": "code",
   "execution_count": null,
   "id": "29ead553-d8b4-41aa-937f-7fd045595855",
   "metadata": {},
   "outputs": [],
   "source": [
    "Elena Arenal"
   ]
  },
  {
   "cell_type": "markdown",
   "id": "f04997cc-966d-4e06-8eb0-64ab376728f8",
   "metadata": {},
   "source": [
    "## Use the following cells to test your solution:"
   ]
  },
  {
   "cell_type": "markdown",
   "id": "5c7c6498",
   "metadata": {},
   "source": [
    "# Kata 1"
   ]
  },
  {
   "cell_type": "code",
   "execution_count": null,
   "id": "4202edc5-f719-4068-96bd-55703a8a6c27",
   "metadata": {},
   "outputs": [],
   "source": [
    "SELECT\n",
    "    CAST(created_at AS DATE) AS day,\n",
    "    description,\n",
    "    COUNT(*) AS count\n",
    "FROM\n",
    "    events\n",
    "WHERE\n",
    "    name = 'trained'\n",
    "GROUP BY\n",
    "    CAST(created_at AS DATE),\n",
    "    description\n",
    "ORDER BY day"
   ]
  },
  {
   "cell_type": "code",
   "execution_count": null,
   "id": "fec15ff7",
   "metadata": {},
   "outputs": [],
   "source": [
    "SELECT\n",
    " CAST(created_at AS DATE) as day,\n",
    "  description,\n",
    "  COUNT(*) AS COUNT\n",
    "FROM \n",
    "events\n",
    "WHERE\n",
    "    name='trained'\n",
    "group by \n",
    " day,\n",
    " description"
   ]
  },
  {
   "cell_type": "code",
   "execution_count": null,
   "id": "906e5bef",
   "metadata": {},
   "outputs": [],
   "source": [
    "SELECT\n",
    " DATE(created_at) as day,\n",
    "  description,\n",
    "  COUNT(*) AS COUNT\n",
    "FROM \n",
    "events\n",
    "WHERE\n",
    "    name='trained'\n",
    "group by \n",
    " day,\n",
    " description"
   ]
  },
  {
   "cell_type": "markdown",
   "id": "fd0b1248",
   "metadata": {},
   "source": [
    "# Kata 2"
   ]
  },
  {
   "cell_type": "markdown",
   "id": "5e5948ae-bfb0-4aa7-8cc0-83970accb44a",
   "metadata": {},
   "source": [
    "## Copy your submited solution here:"
   ]
  },
  {
   "cell_type": "code",
   "execution_count": null,
   "id": "de8f88a1-897b-4b92-8c9f-e04d16cec21a",
   "metadata": {},
   "outputs": [],
   "source": [
    "\n",
    "SELECT\n",
    "  \n",
    "  capital\n",
    "\n",
    "FROM \n",
    "  countries\n",
    "WHERE   \n",
    "  (continent = 'Africa' or continent='Afrika' )\n",
    "AND \n",
    "  country LIKE 'E%'\n",
    "ORDER BY\n",
    "  capital asc\n",
    "  limit 3\n"
   ]
  },
  {
   "cell_type": "markdown",
   "id": "37139f42",
   "metadata": {},
   "source": [
    "# Kata 3"
   ]
  },
  {
   "cell_type": "code",
   "execution_count": null,
   "id": "571eba92",
   "metadata": {},
   "outputs": [],
   "source": [
    "SELECT \n",
    "  CAST(s.transaction_date AS DATE) AS day,\n",
    "  d.name AS department,\n",
    "  COUNT(s.id) as sale_count\n",
    "FROM \n",
    "  department d\n",
    "JOIN \n",
    "  sale s on d.id = s.department_id\n",
    "GROUP BY \n",
    "    CAST(s.transaction_date AS DATE), d.name\n",
    "ORDER BY \n",
    "    day ASC, department ASC;"
   ]
  }
 ],
 "metadata": {
  "kernelspec": {
   "display_name": "Python 3 (ipykernel)",
   "language": "python",
   "name": "python3"
  },
  "language_info": {
   "codemirror_mode": {
    "name": "ipython",
    "version": 3
   },
   "file_extension": ".py",
   "mimetype": "text/x-python",
   "name": "python",
   "nbconvert_exporter": "python",
   "pygments_lexer": "ipython3",
   "version": "3.11.5"
  }
 },
 "nbformat": 4,
 "nbformat_minor": 5
}
